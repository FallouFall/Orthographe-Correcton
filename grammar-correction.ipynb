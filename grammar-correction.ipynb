{
 "metadata": {
  "colab": {
   "provenance": []
  },
  "kernelspec": {
   "name": "python3",
   "display_name": "Python 3",
   "language": "python"
  },
  "language_info": {
   "name": "python",
   "version": "3.10.13",
   "mimetype": "text/x-python",
   "codemirror_mode": {
    "name": "ipython",
    "version": 3
   },
   "pygments_lexer": "ipython3",
   "nbconvert_exporter": "python",
   "file_extension": ".py"
  },
  "kaggle": {
   "accelerator": "none",
   "dataSources": [],
   "dockerImageVersionId": 30698,
   "isInternetEnabled": true,
   "language": "python",
   "sourceType": "notebook",
   "isGpuEnabled": false
  }
 },
 "nbformat_minor": 4,
 "nbformat": 4,
 "cells": [
  {
   "cell_type": "code",
   "source": [
    "from datasets import load_dataset\n",
    "from transformers import create_optimizer , T5TokenizerFast , DataCollatorForSeq2Seq , TFT5ForConditionalGeneration , TFAutoModelForSeq2SeqLM"
   ],
   "metadata": {
    "id": "Hj674QJlgb5D",
    "outputId": "6bcbc309-faeb-46cb-b71c-67ddbf67519d",
    "execution": {
     "iopub.status.busy": "2024-05-02T18:16:03.417348Z",
     "iopub.execute_input": "2024-05-02T18:16:03.417837Z",
     "iopub.status.idle": "2024-05-02T18:16:44.153964Z",
     "shell.execute_reply.started": "2024-05-02T18:16:03.417799Z",
     "shell.execute_reply": "2024-05-02T18:16:44.152407Z"
    },
    "trusted": true,
    "ExecuteTime": {
     "end_time": "2024-05-04T21:57:22.995316Z",
     "start_time": "2024-05-04T21:57:07.952762Z"
    }
   },
   "outputs": [
    {
     "name": "stdout",
     "output_type": "stream",
     "text": [
      "WARNING:tensorflow:From c:\\users\\user\\desktop\\fallou fall\\grammar-correction\\venv\\lib\\site-packages\\tf_keras\\src\\losses.py:2976: The name tf.losses.sparse_softmax_cross_entropy is deprecated. Please use tf.compat.v1.losses.sparse_softmax_cross_entropy instead.\n",
      "\n"
     ]
    }
   ],
   "execution_count": 1
  },
  {
   "cell_type": "code",
   "source": "dataset_id = \"leslyarun/c4_200m_gec_train100k_test25k\"",
   "metadata": {
    "id": "SLLNZA0Zhs1a",
    "execution": {
     "iopub.status.busy": "2024-05-02T18:16:49.254488Z",
     "iopub.execute_input": "2024-05-02T18:16:49.255044Z",
     "iopub.status.idle": "2024-05-02T18:16:49.262296Z",
     "shell.execute_reply.started": "2024-05-02T18:16:49.255002Z",
     "shell.execute_reply": "2024-05-02T18:16:49.260503Z"
    },
    "trusted": true,
    "ExecuteTime": {
     "end_time": "2024-05-04T21:57:26.446190Z",
     "start_time": "2024-05-04T21:57:26.436303Z"
    }
   },
   "outputs": [],
   "execution_count": 2
  },
  {
   "cell_type": "code",
   "source": "dataset = load_dataset(dataset_id)",
   "metadata": {
    "id": "tzLPo37Like1",
    "outputId": "2c1a89c6-6d10-4cfe-ca00-2a39395fc000",
    "execution": {
     "iopub.status.busy": "2024-05-02T18:16:53.945326Z",
     "iopub.execute_input": "2024-05-02T18:16:53.945791Z",
     "iopub.status.idle": "2024-05-02T18:16:57.545548Z",
     "shell.execute_reply.started": "2024-05-02T18:16:53.945752Z",
     "shell.execute_reply": "2024-05-02T18:16:57.544243Z"
    },
    "trusted": true,
    "ExecuteTime": {
     "end_time": "2024-05-04T21:57:31.576028Z",
     "start_time": "2024-05-04T21:57:27.767057Z"
    }
   },
   "outputs": [],
   "execution_count": 3
  },
  {
   "cell_type": "code",
   "source": "dataset['train'][0]",
   "metadata": {
    "id": "4nIbUnNylz10",
    "outputId": "b72d3239-0402-4b94-8b36-871ec5758db0",
    "ExecuteTime": {
     "end_time": "2024-05-04T21:57:32.530897Z",
     "start_time": "2024-05-04T21:57:32.512945Z"
    }
   },
   "outputs": [
    {
     "data": {
      "text/plain": [
       "{'input': 'Bitcoin is for $7,094 this morning, which CoinDesk says.',\n",
       " 'output': 'Bitcoin goes for $7,094 this morning, according to CoinDesk.'}"
      ]
     },
     "execution_count": 4,
     "metadata": {},
     "output_type": "execute_result"
    }
   ],
   "execution_count": 4
  },
  {
   "cell_type": "code",
   "source": "model_id = \"t5-small\"\ntokenizer = T5TokenizerFast.from_pretrained(model_id)",
   "metadata": {
    "id": "A_d13Vx8gjv7",
    "outputId": "d842ec95-f0d4-43a7-d261-a5b3dc271e1c",
    "execution": {
     "iopub.status.busy": "2024-05-02T18:17:24.977983Z",
     "iopub.execute_input": "2024-05-02T18:17:24.978428Z",
     "iopub.status.idle": "2024-05-02T18:17:25.814121Z",
     "shell.execute_reply.started": "2024-05-02T18:17:24.978394Z",
     "shell.execute_reply": "2024-05-02T18:17:25.812760Z"
    },
    "trusted": true,
    "ExecuteTime": {
     "end_time": "2024-05-04T21:57:34.208061Z",
     "start_time": "2024-05-04T21:57:33.678295Z"
    }
   },
   "outputs": [
    {
     "name": "stderr",
     "output_type": "stream",
     "text": [
      "c:\\users\\user\\desktop\\fallou fall\\grammar-correction\\venv\\lib\\site-packages\\huggingface_hub\\file_download.py:1132: FutureWarning: `resume_download` is deprecated and will be removed in version 1.0.0. Downloads always resume when possible. If you want to force a new download, use `force_download=True`.\n",
      "  warnings.warn(\n"
     ]
    }
   ],
   "execution_count": 5
  },
  {
   "cell_type": "code",
   "source": "def preprocess_function(example):\n    inputs = [this for this in example['input']]\n    targets = [this for this in example['output']]\n    model_inputs = tokenizer(inputs, text_target = targets, max_length=128, truncation=True)\n    return model_inputs",
   "metadata": {
    "id": "aok9eITnglJI",
    "execution": {
     "iopub.status.busy": "2024-05-02T18:17:32.130695Z",
     "iopub.execute_input": "2024-05-02T18:17:32.131168Z",
     "iopub.status.idle": "2024-05-02T18:17:32.138732Z",
     "shell.execute_reply.started": "2024-05-02T18:17:32.131131Z",
     "shell.execute_reply": "2024-05-02T18:17:32.137260Z"
    },
    "trusted": true,
    "ExecuteTime": {
     "end_time": "2024-05-04T21:57:41.194608Z",
     "start_time": "2024-05-04T21:57:41.182229Z"
    }
   },
   "outputs": [],
   "execution_count": 6
  },
  {
   "cell_type": "code",
   "source": "tokenized_dataset = dataset.map(preprocess_function, batched=True,remove_columns=dataset['train'].column_names)",
   "metadata": {
    "id": "BBrGeM7cgrk0",
    "execution": {
     "iopub.status.busy": "2024-05-02T18:17:34.803470Z",
     "iopub.execute_input": "2024-05-02T18:17:34.804346Z",
     "iopub.status.idle": "2024-05-02T18:17:58.991215Z",
     "shell.execute_reply.started": "2024-05-02T18:17:34.804309Z",
     "shell.execute_reply": "2024-05-02T18:17:58.989943Z"
    },
    "trusted": true,
    "ExecuteTime": {
     "end_time": "2024-05-04T21:57:48.423823Z",
     "start_time": "2024-05-04T21:57:43.255414Z"
    }
   },
   "outputs": [
    {
     "data": {
      "text/plain": [
       "Map:   0%|          | 0/25000 [00:00<?, ? examples/s]"
      ],
      "application/vnd.jupyter.widget-view+json": {
       "version_major": 2,
       "version_minor": 0,
       "model_id": "2028308cad9048dfa13c5fd25e624f82"
      }
     },
     "metadata": {},
     "output_type": "display_data"
    }
   ],
   "execution_count": 7
  },
  {
   "cell_type": "code",
   "source": "tokenized_dataset",
   "metadata": {
    "id": "AbQlujyzgtC2",
    "outputId": "1ed4279e-5d4e-407c-b8dc-ba7b72fb878a",
    "execution": {
     "iopub.status.busy": "2024-05-02T18:18:01.850803Z",
     "iopub.execute_input": "2024-05-02T18:18:01.852473Z",
     "iopub.status.idle": "2024-05-02T18:18:01.862498Z",
     "shell.execute_reply.started": "2024-05-02T18:18:01.852424Z",
     "shell.execute_reply": "2024-05-02T18:18:01.860885Z"
    },
    "trusted": true,
    "ExecuteTime": {
     "end_time": "2024-05-04T21:57:53.488819Z",
     "start_time": "2024-05-04T21:57:53.475720Z"
    }
   },
   "outputs": [
    {
     "data": {
      "text/plain": [
       "DatasetDict({\n",
       "    train: Dataset({\n",
       "        features: ['input_ids', 'attention_mask', 'labels'],\n",
       "        num_rows: 100000\n",
       "    })\n",
       "    test: Dataset({\n",
       "        features: ['input_ids', 'attention_mask', 'labels'],\n",
       "        num_rows: 25000\n",
       "    })\n",
       "})"
      ]
     },
     "execution_count": 8,
     "metadata": {},
     "output_type": "execute_result"
    }
   ],
   "execution_count": 8
  },
  {
   "cell_type": "code",
   "source": "tokenized_dataset['train'][1000]",
   "metadata": {
    "id": "Jm4URdf7gunX",
    "outputId": "de1d9ccd-cb3f-4ce0-e2ad-74b488e4a201",
    "execution": {
     "iopub.status.busy": "2024-05-02T18:18:04.790406Z",
     "iopub.execute_input": "2024-05-02T18:18:04.790912Z",
     "iopub.status.idle": "2024-05-02T18:18:04.806136Z",
     "shell.execute_reply.started": "2024-05-02T18:18:04.790876Z",
     "shell.execute_reply": "2024-05-02T18:18:04.804959Z"
    },
    "trusted": true,
    "ExecuteTime": {
     "end_time": "2024-05-04T21:57:54.514765Z",
     "start_time": "2024-05-04T21:57:54.488852Z"
    }
   },
   "outputs": [
    {
     "data": {
      "text/plain": [
       "{'input_ids': [6844, 3, 18, 3, 26, 51, 226, 3, 14198, 169, 53, 39, 1339, 5, 1],\n",
       " 'attention_mask': [1, 1, 1, 1, 1, 1, 1, 1, 1, 1, 1, 1, 1, 1, 1],\n",
       " 'labels': [6844, 3, 26, 51, 226, 3, 14198, 3, 18, 150, 1339, 831, 5, 1]}"
      ]
     },
     "execution_count": 9,
     "metadata": {},
     "output_type": "execute_result"
    }
   ],
   "execution_count": 9
  },
  {
   "cell_type": "code",
   "source": "model = TFAutoModelForSeq2SeqLM.from_pretrained(model_id)\ndata_collator = DataCollatorForSeq2Seq(tokenizer=tokenizer, model=model,return_tensors='tf')",
   "metadata": {
    "id": "d7mt_OEPgxim",
    "outputId": "9a6fb365-2375-47ed-c618-e2d5bccc761d",
    "execution": {
     "iopub.status.busy": "2024-05-02T18:18:08.012487Z",
     "iopub.execute_input": "2024-05-02T18:18:08.018890Z",
     "iopub.status.idle": "2024-05-02T18:18:12.465920Z",
     "shell.execute_reply.started": "2024-05-02T18:18:08.018823Z",
     "shell.execute_reply": "2024-05-02T18:18:12.464742Z"
    },
    "trusted": true,
    "ExecuteTime": {
     "end_time": "2024-05-04T21:57:59.763666Z",
     "start_time": "2024-05-04T21:57:55.584276Z"
    }
   },
   "outputs": [
    {
     "name": "stdout",
     "output_type": "stream",
     "text": [
      "WARNING:tensorflow:From c:\\users\\user\\desktop\\fallou fall\\grammar-correction\\venv\\lib\\site-packages\\tf_keras\\src\\backend.py:873: The name tf.get_default_graph is deprecated. Please use tf.compat.v1.get_default_graph instead.\n",
      "\n"
     ]
    },
    {
     "name": "stderr",
     "output_type": "stream",
     "text": [
      "All PyTorch model weights were used when initializing TFT5ForConditionalGeneration.\n",
      "\n",
      "All the weights of TFT5ForConditionalGeneration were initialized from the PyTorch model.\n",
      "If your task is similar to the task the model of the checkpoint was trained on, you can already use TFT5ForConditionalGeneration for predictions without further training.\n"
     ]
    }
   ],
   "execution_count": 10
  },
  {
   "cell_type": "code",
   "source": "#i reduce the batch size because my computer dont have enought memory \nBATCH_SIZE = 16\nMAX_LENGTH = 128",
   "metadata": {
    "id": "H_eelsrhY0hZ",
    "execution": {
     "iopub.status.busy": "2024-05-02T18:19:00.524097Z",
     "iopub.execute_input": "2024-05-02T18:19:00.524508Z",
     "iopub.status.idle": "2024-05-02T18:19:00.530053Z",
     "shell.execute_reply.started": "2024-05-02T18:19:00.524478Z",
     "shell.execute_reply": "2024-05-02T18:19:00.528746Z"
    },
    "trusted": true,
    "ExecuteTime": {
     "end_time": "2024-05-04T21:57:59.794228Z",
     "start_time": "2024-05-04T21:57:59.773011Z"
    }
   },
   "outputs": [],
   "execution_count": 11
  },
  {
   "cell_type": "code",
   "source": "tf_train_dataset = tokenized_dataset['train'].to_tf_dataset(\n    shuffle=True,\n    batch_size=BATCH_SIZE,\n    collate_fn=data_collator,\n  )",
   "metadata": {
    "id": "iX_kGdqPgyyD",
    "execution": {
     "iopub.status.busy": "2024-05-02T18:19:02.656578Z",
     "iopub.execute_input": "2024-05-02T18:19:02.657050Z",
     "iopub.status.idle": "2024-05-02T18:19:03.036176Z",
     "shell.execute_reply.started": "2024-05-02T18:19:02.657015Z",
     "shell.execute_reply": "2024-05-02T18:19:03.035005Z"
    },
    "trusted": true,
    "ExecuteTime": {
     "end_time": "2024-05-04T21:58:01.014492Z",
     "start_time": "2024-05-04T21:57:59.797604Z"
    }
   },
   "outputs": [],
   "execution_count": 12
  },
  {
   "cell_type": "code",
   "source": "valid_dataset = tokenized_dataset['test'].to_tf_dataset(batch_size=BATCH_SIZE,collate_fn=data_collator)",
   "metadata": {
    "id": "XFDz1ROng1D2",
    "execution": {
     "iopub.status.busy": "2024-05-02T18:19:05.140425Z",
     "iopub.execute_input": "2024-05-02T18:19:05.140900Z",
     "iopub.status.idle": "2024-05-02T18:19:05.271068Z",
     "shell.execute_reply.started": "2024-05-02T18:19:05.140864Z",
     "shell.execute_reply": "2024-05-02T18:19:05.269967Z"
    },
    "trusted": true,
    "ExecuteTime": {
     "end_time": "2024-05-04T21:58:02.694598Z",
     "start_time": "2024-05-04T21:58:02.100022Z"
    }
   },
   "outputs": [],
   "execution_count": 13
  },
  {
   "cell_type": "code",
   "source": "for i in valid_dataset.take(1):\n  print(i)",
   "metadata": {
    "id": "YU00i7Lng2Hj",
    "outputId": "3b72d181-5a98-4e1b-8d57-98fec0907d67",
    "execution": {
     "iopub.status.busy": "2024-05-02T18:19:07.722786Z",
     "iopub.execute_input": "2024-05-02T18:19:07.723223Z",
     "iopub.status.idle": "2024-05-02T18:19:07.821226Z",
     "shell.execute_reply.started": "2024-05-02T18:19:07.723187Z",
     "shell.execute_reply": "2024-05-02T18:19:07.820013Z"
    },
    "trusted": true,
    "ExecuteTime": {
     "end_time": "2024-05-04T21:58:05.045993Z",
     "start_time": "2024-05-04T21:58:03.530341Z"
    }
   },
   "outputs": [
    {
     "name": "stdout",
     "output_type": "stream",
     "text": [
      "{'input_ids': <tf.Tensor: shape=(16, 64), dtype=int64, numpy=\n",
      "array([[9139,  138, 2253, ...,    0,    0,    0],\n",
      "       [9627,   37, 5791, ...,    0,    0,    0],\n",
      "       [ 116,   27, 4839, ...,    0,    0,    0],\n",
      "       ...,\n",
      "       [  37,  304,   63, ...,    0,    0,    0],\n",
      "       [  94,  808,  140, ...,    0,    0,    0],\n",
      "       [6465,   13,  306, ...,    0,    0,    0]], dtype=int64)>, 'attention_mask': <tf.Tensor: shape=(16, 64), dtype=int64, numpy=\n",
      "array([[1, 1, 1, ..., 0, 0, 0],\n",
      "       [1, 1, 1, ..., 0, 0, 0],\n",
      "       [1, 1, 1, ..., 0, 0, 0],\n",
      "       ...,\n",
      "       [1, 1, 1, ..., 0, 0, 0],\n",
      "       [1, 1, 1, ..., 0, 0, 0],\n",
      "       [1, 1, 1, ..., 0, 0, 0]], dtype=int64)>, 'labels': <tf.Tensor: shape=(16, 63), dtype=int64, numpy=\n",
      "array([[   37, 13477,  2253, ...,  -100,  -100,  -100],\n",
      "       [ 9627,    37,  5791, ...,  -100,  -100,  -100],\n",
      "       [    3,    99,    27, ...,  -100,  -100,  -100],\n",
      "       ...,\n",
      "       [   37,   304,    63, ...,  -100,  -100,  -100],\n",
      "       [   94,   808,   140, ...,  -100,  -100,  -100],\n",
      "       [ 6465,    13,   306, ...,  -100,  -100,  -100]], dtype=int64)>, 'decoder_input_ids': <tf.Tensor: shape=(16, 63), dtype=int64, numpy=\n",
      "array([[    0,    37, 13477, ...,     0,     0,     0],\n",
      "       [    0,  9627,    37, ...,     0,     0,     0],\n",
      "       [    0,     3,    99, ...,     0,     0,     0],\n",
      "       ...,\n",
      "       [    0,    37,   304, ...,     0,     0,     0],\n",
      "       [    0,    94,   808, ...,     0,     0,     0],\n",
      "       [    0,  6465,    13, ...,     0,     0,     0]], dtype=int64)>}\n"
     ]
    }
   ],
   "execution_count": 14
  },
  {
   "cell_type": "code",
   "source": "model.summary()",
   "metadata": {
    "id": "l07lkWhJnBdE",
    "outputId": "5f5e387c-2c1c-4acd-b678-7b7ffe2d447e",
    "execution": {
     "iopub.status.busy": "2024-05-02T18:19:11.060532Z",
     "iopub.execute_input": "2024-05-02T18:19:11.061002Z",
     "iopub.status.idle": "2024-05-02T18:19:11.109597Z",
     "shell.execute_reply.started": "2024-05-02T18:19:11.060968Z",
     "shell.execute_reply": "2024-05-02T18:19:11.108398Z"
    },
    "trusted": true,
    "ExecuteTime": {
     "end_time": "2024-05-04T21:58:09.063362Z",
     "start_time": "2024-05-04T21:58:09.006386Z"
    }
   },
   "outputs": [
    {
     "name": "stdout",
     "output_type": "stream",
     "text": [
      "Model: \"tft5_for_conditional_generation\"\n",
      "_________________________________________________________________\n",
      " Layer (type)                Output Shape              Param #   \n",
      "=================================================================\n",
      " shared (Embedding)          multiple                  16449536  \n",
      "                                                                 \n",
      " encoder (TFT5MainLayer)     multiple                  35330816  \n",
      "                                                                 \n",
      " decoder (TFT5MainLayer)     multiple                  41625344  \n",
      "                                                                 \n",
      "=================================================================\n",
      "Total params: 60506624 (230.81 MB)\n",
      "Trainable params: 60506624 (230.81 MB)\n",
      "Non-trainable params: 0 (0.00 Byte)\n",
      "_________________________________________________________________\n"
     ]
    }
   ],
   "execution_count": 15
  },
  {
   "cell_type": "code",
   "source": "#!reduce epochs for less time training and ressources\nnum_epochs = 1\nnum_train_steps = len(tf_train_dataset) // BATCH_SIZE * num_epochs\noptimizer, schedule = create_optimizer(\n    init_lr=2e-5,\n    num_warmup_steps=0,\n    num_train_steps=num_train_steps\n)\n\nmodel.compile(optimizer=optimizer)\n",
   "metadata": {
    "id": "2byKhTohnLBN",
    "execution": {
     "iopub.status.busy": "2024-05-02T18:19:17.632989Z",
     "iopub.execute_input": "2024-05-02T18:19:17.633536Z",
     "iopub.status.idle": "2024-05-02T18:19:17.658019Z",
     "shell.execute_reply.started": "2024-05-02T18:19:17.633495Z",
     "shell.execute_reply": "2024-05-02T18:19:17.656155Z"
    },
    "trusted": true,
    "ExecuteTime": {
     "end_time": "2024-05-04T21:58:14.541712Z",
     "start_time": "2024-05-04T21:58:14.458907Z"
    }
   },
   "outputs": [],
   "execution_count": 16
  },
  {
   "cell_type": "code",
   "source": "#this take a lot of time and compute power!!!!\n# i did not  run it .\nmodel.fit(\n    tf_train_dataset,\n    validation_data=valid_dataset,\n    epochs=num_epochs\n)\n",
   "metadata": {
    "id": "Ktt8Fnt5oQAK",
    "outputId": "2a89bee7-bdb0-423f-ea17-fa3f769e9938",
    "ExecuteTime": {
     "end_time": "2024-05-04T21:17:49.382500Z",
     "start_time": "2024-05-04T21:14:12.738116Z"
    }
   },
   "outputs": [
    {
     "name": "stdout",
     "output_type": "stream",
     "text": [
      "WARNING:tensorflow:AutoGraph could not transform <function infer_framework at 0x000001AD1A423310> and will run it as-is.\n",
      "Cause: for/else statement not yet supported\n",
      "To silence this warning, decorate the function with @tf.autograph.experimental.do_not_convert\n",
      "WARNING: AutoGraph could not transform <function infer_framework at 0x000001AD1A423310> and will run it as-is.\n",
      "Cause: for/else statement not yet supported\n",
      "To silence this warning, decorate the function with @tf.autograph.experimental.do_not_convert\n",
      "WARNING:tensorflow:From c:\\users\\user\\desktop\\fallou fall\\grammar-correction\\venv\\lib\\site-packages\\tensorflow\\python\\autograph\\converters\\directives.py:126: The name tf.ragged.RaggedTensorValue is deprecated. Please use tf.compat.v1.ragged.RaggedTensorValue instead.\n",
      "\n",
      "  24/6250 [..............................] - ETA: 9:02:45 - loss: 1.2718"
     ]
    },
    {
     "name": "stderr",
     "output_type": "stream",
     "text": [
      "\n",
      "KeyboardInterrupt\n",
      "\n"
     ]
    }
   ],
   "execution_count": 17
  },
  {
   "cell_type": "code",
   "source": "#input_text =\"Haves you every played soccer under the rain ,with your friends?\"\n#tokenized = tokenizer([input_text],return_tensors='tf')\n#output =model.generate(**tokenized,max_lenght=128)\n#print(output)",
   "metadata": {
    "id": "S5XKYkt5o_eA"
   },
   "execution_count": null,
   "outputs": []
  },
  {
   "cell_type": "code",
   "source": "wrong = [\n   \"He go to the store yesterday.\",\n    \"She don't likes ice cream.\",\n    \"The book are on the table.\",\n    \"We is going to the park tomorrow.\",\n    \"He don't have no money.\",\n    \"She is a good cooker.\",\n    \"I seen him yesterday.\",\n    \"They was playing football.\",\n    \"She sing good.\",\n    \"The dog barks loud.\",\n    \"He speak three languages good.\",\n\n]",
   "metadata": {
    "id": "_4PhtxJTqp_w",
    "execution": {
     "iopub.status.busy": "2024-05-02T18:20:23.451910Z",
     "iopub.execute_input": "2024-05-02T18:20:23.452438Z",
     "iopub.status.idle": "2024-05-02T18:20:23.458875Z",
     "shell.execute_reply.started": "2024-05-02T18:20:23.452404Z",
     "shell.execute_reply": "2024-05-02T18:20:23.457384Z"
    },
    "trusted": true,
    "ExecuteTime": {
     "end_time": "2024-05-04T21:58:21.894838Z",
     "start_time": "2024-05-04T21:58:21.881916Z"
    }
   },
   "outputs": [],
   "execution_count": 17
  },
  {
   "cell_type": "code",
   "source": "#for i in range(len(wrong)):\n# print(wrong[i]+\"----\"+tokenizer.decode(output[i],skip_special_tokens=True))\n",
   "metadata": {
    "id": "jAK07WGoreF3"
   },
   "execution_count": null,
   "outputs": []
  },
  {
   "cell_type": "markdown",
   "source": "# **#since traing required lot of time and compute ressources  , i use a pretrained model******",
   "metadata": {}
  },
  {
   "cell_type": "code",
   "source": "#sine traing required lot of time and compute ressources  , i use a pretrained model\nfrom transformers import AutoModelForSeq2SeqLM\npretrained_model = AutoModelForSeq2SeqLM.from_pretrained(\"juancavallotti/t5-base-gec\")",
   "metadata": {
    "id": "d04fSJ0iwsZK",
    "execution": {
     "iopub.status.busy": "2024-05-02T18:21:20.394405Z",
     "iopub.execute_input": "2024-05-02T18:21:20.394918Z",
     "iopub.status.idle": "2024-05-02T18:21:43.309097Z",
     "shell.execute_reply.started": "2024-05-02T18:21:20.394883Z",
     "shell.execute_reply": "2024-05-02T18:21:43.307872Z"
    },
    "trusted": true,
    "ExecuteTime": {
     "end_time": "2024-05-04T21:58:35.016845Z",
     "start_time": "2024-05-04T21:58:25.261580Z"
    }
   },
   "outputs": [
    {
     "name": "stderr",
     "output_type": "stream",
     "text": [
      "c:\\users\\user\\desktop\\fallou fall\\grammar-correction\\venv\\lib\\site-packages\\huggingface_hub\\file_download.py:1132: FutureWarning: `resume_download` is deprecated and will be removed in version 1.0.0. Downloads always resume when possible. If you want to force a new download, use `force_download=True`.\n",
      "  warnings.warn(\n"
     ]
    }
   ],
   "execution_count": 18
  },
  {
   "cell_type": "code",
   "source": [
    "tokenized = tokenizer(\n",
    "    wrong,\n",
    "    padding=\"longest\",\n",
    "    truncation=True,\n",
    "    return_tensors='pt'\n",
    ")\n",
    "output=pretrained_model.generate(**tokenized,max_length=128)\n"
   ],
   "metadata": {
    "id": "J_i5EYRlwuBM",
    "execution": {
     "iopub.status.busy": "2024-05-02T18:21:46.641790Z",
     "iopub.execute_input": "2024-05-02T18:21:46.642215Z",
     "iopub.status.idle": "2024-05-02T18:21:48.320171Z",
     "shell.execute_reply.started": "2024-05-02T18:21:46.642182Z",
     "shell.execute_reply": "2024-05-02T18:21:48.318784Z"
    },
    "trusted": true,
    "ExecuteTime": {
     "end_time": "2024-05-04T21:58:46.232422Z",
     "start_time": "2024-05-04T21:58:44.192532Z"
    }
   },
   "outputs": [],
   "execution_count": 19
  },
  {
   "cell_type": "code",
   "source": "print(output)",
   "metadata": {
    "id": "6A4whsPNygZI",
    "outputId": "1c76e213-305b-4e7d-8929-5fceaa210899",
    "execution": {
     "iopub.status.busy": "2024-05-02T18:21:51.906558Z",
     "iopub.execute_input": "2024-05-02T18:21:51.907016Z",
     "iopub.status.idle": "2024-05-02T18:21:51.916245Z",
     "shell.execute_reply.started": "2024-05-02T18:21:51.906983Z",
     "shell.execute_reply": "2024-05-02T18:21:51.914793Z"
    },
    "trusted": true,
    "ExecuteTime": {
     "end_time": "2024-05-04T21:58:47.133959Z",
     "start_time": "2024-05-04T21:58:47.123286Z"
    }
   },
   "outputs": [
    {
     "name": "stdout",
     "output_type": "stream",
     "text": [
      "tensor([[    0,   216,   877,    12,     8,  1078,  4981,     3,     5,     1,\n",
      "             0,     0],\n",
      "        [    0,   451,   744,    31,    17,   114,     3,   867,  3022,     3,\n",
      "             5,     1],\n",
      "        [    0,    37,  1335,    33,    30,     8,   953,     5,     1,     0,\n",
      "             0,     0],\n",
      "        [    0,   101,    33,   352,    12,     8,  2447,  5721,     3,     5,\n",
      "             1,     0],\n",
      "        [    0,   216,   744,    31,    17,    43,   136,   540,     5,     1,\n",
      "             0,     0],\n",
      "        [    0,   451,    19,     3,     9,   207,  3989,     3,     5,     1,\n",
      "             0,     0],\n",
      "        [    0,    27,  1509,   376,  4981,     3,     5,     1,     0,     0,\n",
      "             0,     0],\n",
      "        [    0,   328,   130,  1556,  3370,     3,     5,     1,     0,     0,\n",
      "             0,     0],\n",
      "        [    0,   451, 10159,     7,   168,     5,     1,     0,     0,     0,\n",
      "             0,     0],\n",
      "        [    0,    37,  1782, 21696,     7,  8002,   120,     3,     5,     1,\n",
      "             0,     0],\n",
      "        [    0,   216, 12192,   386,  8024,   168,     5,     1,     0,     0,\n",
      "             0,     0]])\n"
     ]
    }
   ],
   "execution_count": 20
  },
  {
   "cell_type": "code",
   "source": "for line in wrong:\n print(line)\n\nprint(\"\\n<----------Corrected Version------------->\\n\")\n\nfor i in range(len(wrong)):\n print(tokenizer.decode(output[i],skip_special_tokens=True))\n",
   "metadata": {
    "id": "BMKI7KOEzVB_",
    "outputId": "057a432c-12bd-4541-ef53-d935d1872487",
    "execution": {
     "iopub.status.busy": "2024-05-02T18:21:55.186348Z",
     "iopub.execute_input": "2024-05-02T18:21:55.186810Z",
     "iopub.status.idle": "2024-05-02T18:21:55.199679Z",
     "shell.execute_reply.started": "2024-05-02T18:21:55.186773Z",
     "shell.execute_reply": "2024-05-02T18:21:55.197167Z"
    },
    "trusted": true,
    "ExecuteTime": {
     "end_time": "2024-05-04T21:58:48.271877Z",
     "start_time": "2024-05-04T21:58:48.231852Z"
    }
   },
   "outputs": [
    {
     "name": "stdout",
     "output_type": "stream",
     "text": [
      "He go to the store yesterday.\n",
      "She don't likes ice cream.\n",
      "The book are on the table.\n",
      "We is going to the park tomorrow.\n",
      "He don't have no money.\n",
      "She is a good cooker.\n",
      "I seen him yesterday.\n",
      "They was playing football.\n",
      "She sing good.\n",
      "The dog barks loud.\n",
      "He speak three languages good.\n",
      "\n",
      "<----------Corrected Version------------->\n",
      "\n",
      "He went to the store yesterday.\n",
      "She doesn't like ice cream.\n",
      "The books are on the table.\n",
      "We are going to the park tomorrow.\n",
      "He doesn't have any money.\n",
      "She is a good cook.\n",
      "I saw him yesterday.\n",
      "They were playing football.\n",
      "She sings well.\n",
      "The dog barks loudly.\n",
      "He speaks three languages well.\n"
     ]
    }
   ],
   "execution_count": 21
  },
  {
   "metadata": {},
   "cell_type": "code",
   "outputs": [],
   "execution_count": null,
   "source": ""
  }
 ]
}
